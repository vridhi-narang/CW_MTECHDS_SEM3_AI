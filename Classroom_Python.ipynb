{
  "nbformat": 4,
  "nbformat_minor": 0,
  "metadata": {
    "colab": {
      "name": "Classroom_Python.ipynb",
      "provenance": [],
      "authorship_tag": "ABX9TyNqfdmiA3/p+Qgrv2p3KfJj",
      "include_colab_link": true
    },
    "kernelspec": {
      "name": "python3",
      "display_name": "Python 3"
    }
  },
  "cells": [
    {
      "cell_type": "markdown",
      "metadata": {
        "id": "view-in-github",
        "colab_type": "text"
      },
      "source": [
        "<a href=\"https://colab.research.google.com/github/vridhi-narang/CW_MTECHDS_SEM3_AI/blob/master/Classroom_Python.ipynb\" target=\"_parent\"><img src=\"https://colab.research.google.com/assets/colab-badge.svg\" alt=\"Open In Colab\"/></a>"
      ]
    },
    {
      "cell_type": "code",
      "metadata": {
        "id": "Baic8hDLYEAO",
        "colab_type": "code",
        "colab": {}
      },
      "source": [
        "import numpy as np\n",
        "import pandas as pd"
      ],
      "execution_count": 2,
      "outputs": []
    },
    {
      "cell_type": "code",
      "metadata": {
        "id": "D_ei-sgrYnTg",
        "colab_type": "code",
        "colab": {}
      },
      "source": [
        "df = pd.read_csv('/content/oilpriceindex.csv')"
      ],
      "execution_count": 6,
      "outputs": []
    },
    {
      "cell_type": "code",
      "metadata": {
        "id": "-0QfHiBHY9un",
        "colab_type": "code",
        "colab": {
          "base_uri": "https://localhost:8080/",
          "height": 195
        },
        "outputId": "db0fc23e-fd22-40e4-aaa0-7c565db41d95"
      },
      "source": [
        "df.head()"
      ],
      "execution_count": 7,
      "outputs": [
        {
          "output_type": "execute_result",
          "data": {
            "text/html": [
              "<div>\n",
              "<style scoped>\n",
              "    .dataframe tbody tr th:only-of-type {\n",
              "        vertical-align: middle;\n",
              "    }\n",
              "\n",
              "    .dataframe tbody tr th {\n",
              "        vertical-align: top;\n",
              "    }\n",
              "\n",
              "    .dataframe thead th {\n",
              "        text-align: right;\n",
              "    }\n",
              "</style>\n",
              "<table border=\"1\" class=\"dataframe\">\n",
              "  <thead>\n",
              "    <tr style=\"text-align: right;\">\n",
              "      <th></th>\n",
              "      <th>DATE</th>\n",
              "      <th>WTI</th>\n",
              "      <th>BRENT</th>\n",
              "      <th>INR</th>\n",
              "      <th>NIFTY</th>\n",
              "    </tr>\n",
              "  </thead>\n",
              "  <tbody>\n",
              "    <tr>\n",
              "      <th>0</th>\n",
              "      <td>01-01-1990</td>\n",
              "      <td>22.86</td>\n",
              "      <td>21.25</td>\n",
              "      <td>35.6</td>\n",
              "      <td>0.44</td>\n",
              "    </tr>\n",
              "    <tr>\n",
              "      <th>1</th>\n",
              "      <td>02-01-1990</td>\n",
              "      <td>22.11</td>\n",
              "      <td>19.81</td>\n",
              "      <td>35.6</td>\n",
              "      <td>2.45</td>\n",
              "    </tr>\n",
              "    <tr>\n",
              "      <th>2</th>\n",
              "      <td>03-01-1990</td>\n",
              "      <td>NaN</td>\n",
              "      <td>18.39</td>\n",
              "      <td>35.9</td>\n",
              "      <td>-0.28</td>\n",
              "    </tr>\n",
              "    <tr>\n",
              "      <th>3</th>\n",
              "      <td>04-01-1990</td>\n",
              "      <td>18.43</td>\n",
              "      <td>16.61</td>\n",
              "      <td>36.3</td>\n",
              "      <td>-6.18</td>\n",
              "    </tr>\n",
              "    <tr>\n",
              "      <th>4</th>\n",
              "      <td>05-01-1990</td>\n",
              "      <td>18.20</td>\n",
              "      <td>16.35</td>\n",
              "      <td>36.3</td>\n",
              "      <td>-1.62</td>\n",
              "    </tr>\n",
              "  </tbody>\n",
              "</table>\n",
              "</div>"
            ],
            "text/plain": [
              "         DATE    WTI  BRENT   INR  NIFTY\n",
              "0  01-01-1990  22.86  21.25  35.6   0.44\n",
              "1  02-01-1990  22.11  19.81  35.6   2.45\n",
              "2  03-01-1990    NaN  18.39  35.9  -0.28\n",
              "3  04-01-1990  18.43  16.61  36.3  -6.18\n",
              "4  05-01-1990  18.20  16.35  36.3  -1.62"
            ]
          },
          "metadata": {
            "tags": []
          },
          "execution_count": 7
        }
      ]
    },
    {
      "cell_type": "code",
      "metadata": {
        "id": "vCi8qwayZCU2",
        "colab_type": "code",
        "colab": {
          "base_uri": "https://localhost:8080/",
          "height": 34
        },
        "outputId": "06984a02-e111-40d3-e67e-2510d7296b30"
      },
      "source": [
        "c = input(\"Enter the percentage for the split for training dataset eg: 80:\")"
      ],
      "execution_count": 8,
      "outputs": [
        {
          "output_type": "stream",
          "text": [
            "Enter the percentage for the split for training dataset eg: 80:80\n"
          ],
          "name": "stdout"
        }
      ]
    },
    {
      "cell_type": "code",
      "metadata": {
        "id": "qW6UMTAacGKM",
        "colab_type": "code",
        "colab": {}
      },
      "source": [
        "from sklearn.model_selection import train_test_split"
      ],
      "execution_count": 9,
      "outputs": []
    },
    {
      "cell_type": "code",
      "metadata": {
        "id": "Ht8QE07FcsGb",
        "colab_type": "code",
        "colab": {}
      },
      "source": [
        "df_copy = df.copy()\n",
        "train_set = df_copy.sample(frac= 0.8 , random_state=0)\n",
        "test_set = df_copy.drop(train_set.index)"
      ],
      "execution_count": 16,
      "outputs": []
    },
    {
      "cell_type": "code",
      "metadata": {
        "id": "_2a8vU6gn1t7",
        "colab_type": "code",
        "colab": {
          "base_uri": "https://localhost:8080/",
          "height": 101
        },
        "outputId": "6229b1f0-ad78-4b24-e9d0-7208199c3523"
      },
      "source": [
        "for col in df.columns: \n",
        "    print(col)"
      ],
      "execution_count": 24,
      "outputs": [
        {
          "output_type": "stream",
          "text": [
            "DATE\n",
            "WTI\n",
            "BRENT\n",
            "INR\n",
            "NIFTY\n"
          ],
          "name": "stdout"
        }
      ]
    },
    {
      "cell_type": "code",
      "metadata": {
        "id": "d3_pXqANerUT",
        "colab_type": "code",
        "colab": {}
      },
      "source": [
        "for i in range(0,len(df)): df.loc[i,col]"
      ],
      "execution_count": 25,
      "outputs": []
    },
    {
      "cell_type": "code",
      "metadata": {
        "id": "4ExApuTXnT_b",
        "colab_type": "code",
        "colab": {}
      },
      "source": [
        ""
      ],
      "execution_count": null,
      "outputs": []
    }
  ]
}